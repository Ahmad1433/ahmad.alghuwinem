{
 "cells": [
  {
   "cell_type": "code",
   "execution_count": 2,
   "metadata": {},
   "outputs": [
    {
     "name": "stdout",
     "output_type": "stream",
     "text": [
      "welcomeahmad\n",
      "welcome:ahmad\n"
     ]
    }
   ],
   "source": [
    "FirstName = input(\"welcome\")\n",
    "print(\"welcome:\" + FirstName)"
   ]
  },
  {
   "cell_type": "code",
   "execution_count": 3,
   "metadata": {},
   "outputs": [
    {
     "name": "stdout",
     "output_type": "stream",
     "text": [
      "num1=1.2\n",
      "num2=1.4\n",
      "2.5999999999999996\n"
     ]
    }
   ],
   "source": [
    "num1=float(input(\"num1=\"))\n",
    "num2=float(input(\"num2=\"))\n",
    "print(num1 + num2)"
   ]
  }
 ],
 "metadata": {
  "kernelspec": {
   "display_name": "Python 3",
   "language": "python",
   "name": "python3"
  },
  "language_info": {
   "codemirror_mode": {
    "name": "ipython",
    "version": 3
   },
   "file_extension": ".py",
   "mimetype": "text/x-python",
   "name": "python",
   "nbconvert_exporter": "python",
   "pygments_lexer": "ipython3",
   "version": "3.6.11"
  }
 },
 "nbformat": 4,
 "nbformat_minor": 4
}
