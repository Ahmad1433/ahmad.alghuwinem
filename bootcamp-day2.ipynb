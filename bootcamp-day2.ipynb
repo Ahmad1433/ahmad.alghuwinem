{
 "cells": [
  {
   "cell_type": "code",
   "execution_count": 11,
   "metadata": {},
   "outputs": [
    {
     "name": "stdout",
     "output_type": "stream",
     "text": [
      "nasser\n"
     ]
    }
   ],
   "source": [
    "import random\n",
    "name = [\"ahmad\",\"nasser\",\"abdullah\",\"ali\"]\n",
    "random.seed(8)\n",
    "x = random.choice(name)\n",
    "print(x)"
   ]
  },
  {
   "cell_type": "code",
   "execution_count": 6,
   "metadata": {},
   "outputs": [
    {
     "name": "stdout",
     "output_type": "stream",
     "text": [
      "entre your number1:1.3\n",
      "entre your number2:1.2\n",
      "2.5\n"
     ]
    }
   ],
   "source": [
    "num1=float(input(\"entre your number1:\"))\n",
    "num2=float(input(\"entre your number2:\"))\n",
    "print(num1+num2)"
   ]
  },
  {
   "cell_type": "code",
   "execution_count": 15,
   "metadata": {},
   "outputs": [
    {
     "name": "stdout",
     "output_type": "stream",
     "text": [
      "python ,python ,python ,python ,python ,python ,python ,python ,python ,python ,python ,python ,python ,python ,python ,python ,python ,python ,python ,python ,python ,python ,python ,python ,python ,python ,python ,python ,python ,python ,python ,python ,python ,python ,python ,python ,python ,python ,python ,python ,python ,python ,python ,python ,python ,python ,python ,python ,python ,python ,python ,python ,python ,python ,python ,python ,python ,python ,python ,python ,python ,python ,python ,python ,python ,python ,python ,python ,python ,python ,python ,python ,python ,python ,python ,python ,python ,python ,python ,python ,python ,python ,python ,python ,python ,python ,python ,python ,python ,python ,python ,python ,python ,python ,python ,python ,python ,python ,python ,python ,\n"
     ]
    }
   ],
   "source": [
    "py=\"python ,\"\n",
    "print(py*100)"
   ]
  },
  {
   "cell_type": "code",
   "execution_count": null,
   "metadata": {},
   "outputs": [],
   "source": [
    "import turtle\n",
    "turtle.shape('turtle')\n",
    "x =0\n",
    "for x in range (60):\n",
    "    for i in range(4):\n",
    "        turtle.forward(100)\n",
    "        turtle.right(90)\n",
    "    turtle.right(5)"
   ]
  },
  {
   "cell_type": "code",
   "execution_count": null,
   "metadata": {},
   "outputs": [],
   "source": [
    "import turtle\n",
    "turtle.shape('turtle')\n",
    "x =0\n",
    "for x in range (30):\n",
    "    for i in range(4):\n",
    "        turtle.forward(70)\n",
    "        turtle.left(90)\n",
    "    turtle.left(5)"
   ]
  }
 ],
 "metadata": {
  "kernelspec": {
   "display_name": "Python 3",
   "language": "python",
   "name": "python3"
  },
  "language_info": {
   "codemirror_mode": {
    "name": "ipython",
    "version": 3
   },
   "file_extension": ".py",
   "mimetype": "text/x-python",
   "name": "python",
   "nbconvert_exporter": "python",
   "pygments_lexer": "ipython3",
   "version": "3.8.5"
  }
 },
 "nbformat": 4,
 "nbformat_minor": 4
}
